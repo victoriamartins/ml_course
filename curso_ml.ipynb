{
  "nbformat": 4,
  "nbformat_minor": 0,
  "metadata": {
    "colab": {
      "name": "curso_ml.ipynb",
      "provenance": [],
      "authorship_tag": "ABX9TyOiMMphMwfhrZOlMJbsX0Xm"
    },
    "kernelspec": {
      "name": "python3",
      "display_name": "Python 3"
    },
    "language_info": {
      "name": "python"
    }
  },
  "cells": [
    {
      "cell_type": "markdown",
      "metadata": {
        "id": "21SMwGALYcAN"
      },
      "source": [
        "**Hyper-Parameter Tuning**\n",
        "---\n",
        "\n",
        "It's a method used to find the optimal parameters for a machine learning algorithm.\n",
        "It's important to search what parameters the algorithm offers and I can tune.\n",
        "\n",
        "Best results:\n",
        "\n",
        "\n",
        "*   Decision Tree: 0.95%\n",
        "*   Random Forest: 0.96%\n",
        "*   KNN: 0.93%\n",
        "*   Logistic Regression: 0.95%\n",
        "*   SVM: 0.95%\n",
        "*   MLP: 0.98% with scaled data\n"
      ]
    },
    {
      "cell_type": "code",
      "metadata": {
        "id": "v5y3ufwdT63U"
      },
      "source": [
        "from sklearn.model_selection import GridSearchCV\n",
        "from sklearn.tree import DecisionTreeClassifier\n",
        "from sklearn.ensemble import RandomForestClassifier\n",
        "from sklearn.neighbors import KNeighborsClassifier\n",
        "from sklearn.linear_model import LogisticRegression\n",
        "from sklearn.svm import SVC\n",
        "from sklearn.neural_network import MLPClassifier\n",
        "import pandas as pd"
      ],
      "execution_count": 13,
      "outputs": []
    },
    {
      "cell_type": "code",
      "metadata": {
        "id": "6IpzAgMWMXMU"
      },
      "source": [
        "from sklearn.datasets import load_breast_cancer\n",
        "from sklearn.preprocessing import StandardScaler"
      ],
      "execution_count": 2,
      "outputs": []
    },
    {
      "cell_type": "code",
      "metadata": {
        "id": "B8k4d47-bvmb"
      },
      "source": [
        "data, target = load_breast_cancer(return_X_y=True)"
      ],
      "execution_count": 3,
      "outputs": []
    },
    {
      "cell_type": "code",
      "metadata": {
        "id": "58wIvk8a7-wF"
      },
      "source": [
        "scaler = StandardScaler()\n",
        "data = scaler.fit_transform(data)"
      ],
      "execution_count": 4,
      "outputs": []
    },
    {
      "cell_type": "markdown",
      "metadata": {
        "id": "xA5-JRrHdTov"
      },
      "source": [
        "Decision Tree\n",
        "---\n"
      ]
    },
    {
      "cell_type": "code",
      "metadata": {
        "id": "u3znEuE4dIxE"
      },
      "source": [
        "parameters = {'criterion': ['gini', 'entropy'],\n",
        "              'splitter': ['best', 'random'],\n",
        "              'min_samples_split': [2, 5, 10],\n",
        "              'min_samples_leaf': [1, 5, 10]}"
      ],
      "execution_count": null,
      "outputs": []
    },
    {
      "cell_type": "code",
      "metadata": {
        "id": "5W3ot1PVeRs_"
      },
      "source": [
        "grid_search = GridSearchCV(estimator=DecisionTreeClassifier(), param_grid=parameters)\n",
        "grid_search.fit(data, target)\n",
        "best_parameters = grid_search.best_params_\n",
        "best_result = grid_search.best_score_"
      ],
      "execution_count": null,
      "outputs": []
    },
    {
      "cell_type": "code",
      "metadata": {
        "colab": {
          "base_uri": "https://localhost:8080/"
        },
        "id": "kAQct5RLe3LY",
        "outputId": "eae8f6b2-80d4-4e4e-bfbd-68857bdcd88e"
      },
      "source": [
        "best_parameters, best_result"
      ],
      "execution_count": null,
      "outputs": [
        {
          "output_type": "execute_result",
          "data": {
            "text/plain": [
              "({'criterion': 'entropy',\n",
              "  'min_samples_leaf': 1,\n",
              "  'min_samples_split': 5,\n",
              "  'splitter': 'random'},\n",
              " 0.9507374631268437)"
            ]
          },
          "metadata": {
            "tags": []
          },
          "execution_count": 21
        }
      ]
    },
    {
      "cell_type": "markdown",
      "metadata": {
        "id": "uAWCnmVbgSCs"
      },
      "source": [
        "Random Forest\n",
        "---"
      ]
    },
    {
      "cell_type": "code",
      "metadata": {
        "id": "05P6YmORgT7D"
      },
      "source": [
        "parameters = {'criterion': ['gini', 'entropy'],\n",
        "              'n_estimators': [10, 15, 20],\n",
        "              'min_samples_split': [2, 5, 10],\n",
        "              'min_samples_leaf': [1, 5, 10]}\n",
        "grid_search = GridSearchCV(estimator=RandomForestClassifier(), param_grid=parameters)\n",
        "grid_search.fit(data, target)\n",
        "best_parameters = grid_search.best_params_\n",
        "best_result = grid_search.best_score_"
      ],
      "execution_count": null,
      "outputs": []
    },
    {
      "cell_type": "code",
      "metadata": {
        "colab": {
          "base_uri": "https://localhost:8080/"
        },
        "id": "bE7ZX1ogh7VI",
        "outputId": "0eddd45d-73c6-4095-c612-686ebefb4c2c"
      },
      "source": [
        "best_parameters, best_result"
      ],
      "execution_count": null,
      "outputs": [
        {
          "output_type": "execute_result",
          "data": {
            "text/plain": [
              "({'criterion': 'entropy',\n",
              "  'min_samples_leaf': 1,\n",
              "  'min_samples_split': 2,\n",
              "  'n_estimators': 10},\n",
              " 0.9648501785437045)"
            ]
          },
          "metadata": {
            "tags": []
          },
          "execution_count": 25
        }
      ]
    },
    {
      "cell_type": "markdown",
      "metadata": {
        "id": "tKq97tp-jtYT"
      },
      "source": [
        "KNN\n",
        "---"
      ]
    },
    {
      "cell_type": "code",
      "metadata": {
        "id": "MqZaqB8bjwPb"
      },
      "source": [
        "parameters = {'n_neighbors': [7, 9, 11],\n",
        "              'p': [1, 2]}\n",
        "grid_search = GridSearchCV(estimator=KNeighborsClassifier(), param_grid=parameters)\n",
        "grid_search.fit(data, target)\n",
        "best_parameters = grid_search.best_params_\n",
        "best_result = grid_search.best_score_"
      ],
      "execution_count": null,
      "outputs": []
    },
    {
      "cell_type": "code",
      "metadata": {
        "colab": {
          "base_uri": "https://localhost:8080/"
        },
        "id": "t5Koa3QekxDb",
        "outputId": "01db5f57-7dc6-46e3-f211-90ec2cbc40aa"
      },
      "source": [
        "best_parameters, best_result"
      ],
      "execution_count": null,
      "outputs": [
        {
          "output_type": "execute_result",
          "data": {
            "text/plain": [
              "({'n_neighbors': 9, 'p': 1}, 0.9385188635305077)"
            ]
          },
          "metadata": {
            "tags": []
          },
          "execution_count": 36
        }
      ]
    },
    {
      "cell_type": "markdown",
      "metadata": {
        "id": "BL7sGhss0fa5"
      },
      "source": [
        "Logistic Regression\n",
        "---"
      ]
    },
    {
      "cell_type": "code",
      "metadata": {
        "id": "2Mq6ZpJI0kR4"
      },
      "source": [
        "parameters = {'solver': ['liblinear', 'lbfgs', 'sag'],\n",
        "              'tol': [0.001, 0.0001, 0.00001],\n",
        "              'C': [1.0, 1.5, 2.0]}\n",
        "grid_search = GridSearchCV(estimator=LogisticRegression(), param_grid=parameters)\n",
        "grid_search.fit(data, target)\n",
        "best_parameters = grid_search.best_params_\n",
        "best_result = grid_search.best_score_"
      ],
      "execution_count": null,
      "outputs": []
    },
    {
      "cell_type": "code",
      "metadata": {
        "colab": {
          "base_uri": "https://localhost:8080/"
        },
        "id": "sDUj6Vk32zFS",
        "outputId": "e6b0f191-613b-4145-a007-da8aa3798b0f"
      },
      "source": [
        "best_parameters, best_result"
      ],
      "execution_count": null,
      "outputs": [
        {
          "output_type": "execute_result",
          "data": {
            "text/plain": [
              "({'C': 1.5, 'solver': 'liblinear', 'tol': 0.0001}, 0.9543238627542309)"
            ]
          },
          "metadata": {
            "tags": []
          },
          "execution_count": 6
        }
      ]
    },
    {
      "cell_type": "markdown",
      "metadata": {
        "id": "NpJdKZlD3Gbc"
      },
      "source": [
        "Support Vector Machine\n",
        "---"
      ]
    },
    {
      "cell_type": "code",
      "metadata": {
        "id": "-HTsW4_D3LEr"
      },
      "source": [
        "parameters = {'C': [1.5, 2.0],\n",
        "              'kernel': ['rbf', 'linear', 'poly'],\n",
        "              'tol': [0.001, 0.0001]}\n",
        "grid_search = GridSearchCV(estimator=SVC(), param_grid=parameters)\n",
        "grid_search.fit(data, target)\n",
        "best_parameters = grid_search.best_params_\n",
        "best_result = grid_search.best_score_"
      ],
      "execution_count": 27,
      "outputs": []
    },
    {
      "cell_type": "code",
      "metadata": {
        "colab": {
          "base_uri": "https://localhost:8080/"
        },
        "id": "lQNRAr7_5NwI",
        "outputId": "01edf58f-cb77-4455-d7c1-17c428de2533"
      },
      "source": [
        "best_parameters, best_result"
      ],
      "execution_count": 28,
      "outputs": [
        {
          "output_type": "execute_result",
          "data": {
            "text/plain": [
              "({'C': 1.5, 'kernel': 'rbf', 'tol': 0.001}, 0.9771619313771154)"
            ]
          },
          "metadata": {
            "tags": []
          },
          "execution_count": 28
        }
      ]
    },
    {
      "cell_type": "markdown",
      "metadata": {
        "id": "aZvwGFNI6LtC"
      },
      "source": [
        "MLP\n",
        "---"
      ]
    },
    {
      "cell_type": "code",
      "metadata": {
        "id": "tgsrriFo6Oph"
      },
      "source": [
        "parameters = {'activation': ['relu', 'logistic', 'tanh'],\n",
        "              'solver': ['adam', 'sgd'],\n",
        "              'batch_size': [10, 56]}\n",
        "grid_search = GridSearchCV(estimator=MLPClassifier(), param_grid=parameters)\n",
        "grid_search.fit(data, target)\n",
        "best_parameters = grid_search.best_params_\n",
        "best_result = grid_search.best_score_"
      ],
      "execution_count": null,
      "outputs": []
    },
    {
      "cell_type": "code",
      "metadata": {
        "colab": {
          "base_uri": "https://localhost:8080/"
        },
        "id": "mZgyKPHy7kCD",
        "outputId": "8dd1946b-1dec-48c4-ace6-79ee329083ce"
      },
      "source": [
        "best_parameters, best_result"
      ],
      "execution_count": null,
      "outputs": [
        {
          "output_type": "execute_result",
          "data": {
            "text/plain": [
              "({'activation': 'logistic', 'batch_size': 10, 'solver': 'adam'},\n",
              " 0.9243595714951095)"
            ]
          },
          "metadata": {
            "tags": []
          },
          "execution_count": 22
        }
      ]
    },
    {
      "cell_type": "markdown",
      "metadata": {
        "id": "nCuWHcOpMGWs"
      },
      "source": [
        "Cross Validation\n",
        "---\n"
      ]
    },
    {
      "cell_type": "code",
      "metadata": {
        "id": "LW5hFVo8NXAV"
      },
      "source": [
        "from sklearn.model_selection import cross_val_score, KFold"
      ],
      "execution_count": 5,
      "outputs": []
    },
    {
      "cell_type": "code",
      "metadata": {
        "id": "JPXLsEOrOehE"
      },
      "source": [
        "tree_results = []\n",
        "randomf_results = []\n",
        "mlp_results = []\n",
        "svm_results = []"
      ],
      "execution_count": 20,
      "outputs": []
    },
    {
      "cell_type": "code",
      "metadata": {
        "id": "PHHJ1Vi2MRaV"
      },
      "source": [
        "for i in range(10):  # 300 tests with 10 splits and 30 random states is better\n",
        "  kfold = KFold(n_splits=10, shuffle=True, random_state=i)\n",
        "  tree = DecisionTreeClassifier(criterion='entropy', min_samples_leaf=1, \n",
        "                                min_samples_split=5, splitter='random')\n",
        "  score = cross_val_score(tree, data, target, cv=kfold)\n",
        "  tree_results.append(score.mean())"
      ],
      "execution_count": 21,
      "outputs": []
    },
    {
      "cell_type": "code",
      "metadata": {
        "id": "RaOTrWkYO_Ho"
      },
      "source": [
        "for i in range(10):\n",
        "  kfold = KFold(n_splits=10, shuffle=True, random_state=i)\n",
        "  randomf = RandomForestClassifier(criterion='entropy', min_samples_leaf=1, \n",
        "                                   min_samples_split=2, n_estimators=10)\n",
        "  score = cross_val_score(randomf, data, target, cv=kfold)\n",
        "  randomf_results.append(score.mean())"
      ],
      "execution_count": 22,
      "outputs": []
    },
    {
      "cell_type": "code",
      "metadata": {
        "id": "_ihjLxDGbl5u"
      },
      "source": [
        "for i in range(10):\n",
        "  kfold = KFold(n_splits=10, shuffle=True, random_state=i)\n",
        "  svm_cls = SVC(C=1.5, kernel='rbf', tol=0.001)\n",
        "  score = cross_val_score(svm_cls, data, target, cv=kfold)\n",
        "  svm_results.append(score.mean())"
      ],
      "execution_count": 29,
      "outputs": []
    },
    {
      "cell_type": "code",
      "metadata": {
        "id": "Qs3jzsCXPune"
      },
      "source": [
        "for i in range(10):\n",
        "  kfold = KFold(n_splits=10, shuffle=True, random_state=i)\n",
        "  mlp_cls = MLPClassifier(activation='logistic', batch_size=10, solver='adam')\n",
        "  score = cross_val_score(mlp_cls, data, target, cv=kfold)\n",
        "  mlp_results.append(score.mean())"
      ],
      "execution_count": null,
      "outputs": []
    },
    {
      "cell_type": "code",
      "metadata": {
        "colab": {
          "base_uri": "https://localhost:8080/"
        },
        "id": "nU_9EOWZOHKK",
        "outputId": "076f0740-3b72-4d40-8638-83fe0ed38e75"
      },
      "source": [
        "svm_results # each result is the mean of 10 tests with different combinations of slices"
      ],
      "execution_count": 30,
      "outputs": [
        {
          "output_type": "execute_result",
          "data": {
            "text/plain": [
              "[0.9789473684210526,\n",
              " 0.9736215538847116,\n",
              " 0.9753759398496239,\n",
              " 0.9753759398496239,\n",
              " 0.9771303258145363,\n",
              " 0.9735902255639097,\n",
              " 0.9806704260651629,\n",
              " 0.9718671679197994,\n",
              " 0.9718984962406015,\n",
              " 0.975407268170426]"
            ]
          },
          "metadata": {
            "tags": []
          },
          "execution_count": 30
        }
      ]
    },
    {
      "cell_type": "markdown",
      "metadata": {
        "id": "r5Xkh4V4XfZL"
      },
      "source": [
        "Results Analysis\n",
        "---"
      ]
    },
    {
      "cell_type": "code",
      "metadata": {
        "colab": {
          "base_uri": "https://localhost:8080/",
          "height": 359
        },
        "id": "dQ1jRXraX085",
        "outputId": "b897f437-d12b-42cf-c14c-bc102ef88df2"
      },
      "source": [
        "results = pd.DataFrame({'Decision tree': tree_results,\n",
        "                        'SVM': svm_results,\n",
        "                        'Random forest': randomf_results,\n",
        "                        'Neural Network': mlp_results})\n",
        "results # this structure could be used to analyse the precision and recall too"
      ],
      "execution_count": 31,
      "outputs": [
        {
          "output_type": "execute_result",
          "data": {
            "text/html": [
              "<div>\n",
              "<style scoped>\n",
              "    .dataframe tbody tr th:only-of-type {\n",
              "        vertical-align: middle;\n",
              "    }\n",
              "\n",
              "    .dataframe tbody tr th {\n",
              "        vertical-align: top;\n",
              "    }\n",
              "\n",
              "    .dataframe thead th {\n",
              "        text-align: right;\n",
              "    }\n",
              "</style>\n",
              "<table border=\"1\" class=\"dataframe\">\n",
              "  <thead>\n",
              "    <tr style=\"text-align: right;\">\n",
              "      <th></th>\n",
              "      <th>Decision tree</th>\n",
              "      <th>SVM</th>\n",
              "      <th>Random forest</th>\n",
              "      <th>Neural Network</th>\n",
              "    </tr>\n",
              "  </thead>\n",
              "  <tbody>\n",
              "    <tr>\n",
              "      <th>0</th>\n",
              "      <td>0.947306</td>\n",
              "      <td>0.978947</td>\n",
              "      <td>0.957832</td>\n",
              "      <td>0.973684</td>\n",
              "    </tr>\n",
              "    <tr>\n",
              "      <th>1</th>\n",
              "      <td>0.945520</td>\n",
              "      <td>0.973622</td>\n",
              "      <td>0.956078</td>\n",
              "      <td>0.971867</td>\n",
              "    </tr>\n",
              "    <tr>\n",
              "      <th>2</th>\n",
              "      <td>0.943797</td>\n",
              "      <td>0.975376</td>\n",
              "      <td>0.954323</td>\n",
              "      <td>0.970144</td>\n",
              "    </tr>\n",
              "    <tr>\n",
              "      <th>3</th>\n",
              "      <td>0.922650</td>\n",
              "      <td>0.975376</td>\n",
              "      <td>0.950815</td>\n",
              "      <td>0.970144</td>\n",
              "    </tr>\n",
              "    <tr>\n",
              "      <th>4</th>\n",
              "      <td>0.922682</td>\n",
              "      <td>0.977130</td>\n",
              "      <td>0.957832</td>\n",
              "      <td>0.968327</td>\n",
              "    </tr>\n",
              "    <tr>\n",
              "      <th>5</th>\n",
              "      <td>0.927851</td>\n",
              "      <td>0.973590</td>\n",
              "      <td>0.955984</td>\n",
              "      <td>0.970050</td>\n",
              "    </tr>\n",
              "    <tr>\n",
              "      <th>6</th>\n",
              "      <td>0.935025</td>\n",
              "      <td>0.980670</td>\n",
              "      <td>0.954355</td>\n",
              "      <td>0.973653</td>\n",
              "    </tr>\n",
              "    <tr>\n",
              "      <th>7</th>\n",
              "      <td>0.940226</td>\n",
              "      <td>0.971867</td>\n",
              "      <td>0.957832</td>\n",
              "      <td>0.970113</td>\n",
              "    </tr>\n",
              "    <tr>\n",
              "      <th>8</th>\n",
              "      <td>0.927882</td>\n",
              "      <td>0.971898</td>\n",
              "      <td>0.970081</td>\n",
              "      <td>0.966573</td>\n",
              "    </tr>\n",
              "    <tr>\n",
              "      <th>9</th>\n",
              "      <td>0.924499</td>\n",
              "      <td>0.975407</td>\n",
              "      <td>0.957895</td>\n",
              "      <td>0.971867</td>\n",
              "    </tr>\n",
              "  </tbody>\n",
              "</table>\n",
              "</div>"
            ],
            "text/plain": [
              "   Decision tree       SVM  Random forest  Neural Network\n",
              "0       0.947306  0.978947       0.957832        0.973684\n",
              "1       0.945520  0.973622       0.956078        0.971867\n",
              "2       0.943797  0.975376       0.954323        0.970144\n",
              "3       0.922650  0.975376       0.950815        0.970144\n",
              "4       0.922682  0.977130       0.957832        0.968327\n",
              "5       0.927851  0.973590       0.955984        0.970050\n",
              "6       0.935025  0.980670       0.954355        0.973653\n",
              "7       0.940226  0.971867       0.957832        0.970113\n",
              "8       0.927882  0.971898       0.970081        0.966573\n",
              "9       0.924499  0.975407       0.957895        0.971867"
            ]
          },
          "metadata": {
            "tags": []
          },
          "execution_count": 31
        }
      ]
    },
    {
      "cell_type": "code",
      "metadata": {
        "colab": {
          "base_uri": "https://localhost:8080/",
          "height": 297
        },
        "id": "hlqo2V5AbWnb",
        "outputId": "588947c3-52ea-4b79-cef6-c9ad7c4fb36e"
      },
      "source": [
        "results.describe() # best std = MLP and SVM\n",
        "# the best algorithm here is SVM due to its score and std"
      ],
      "execution_count": 32,
      "outputs": [
        {
          "output_type": "execute_result",
          "data": {
            "text/html": [
              "<div>\n",
              "<style scoped>\n",
              "    .dataframe tbody tr th:only-of-type {\n",
              "        vertical-align: middle;\n",
              "    }\n",
              "\n",
              "    .dataframe tbody tr th {\n",
              "        vertical-align: top;\n",
              "    }\n",
              "\n",
              "    .dataframe thead th {\n",
              "        text-align: right;\n",
              "    }\n",
              "</style>\n",
              "<table border=\"1\" class=\"dataframe\">\n",
              "  <thead>\n",
              "    <tr style=\"text-align: right;\">\n",
              "      <th></th>\n",
              "      <th>Decision tree</th>\n",
              "      <th>SVM</th>\n",
              "      <th>Random forest</th>\n",
              "      <th>Neural Network</th>\n",
              "    </tr>\n",
              "  </thead>\n",
              "  <tbody>\n",
              "    <tr>\n",
              "      <th>count</th>\n",
              "      <td>10.000000</td>\n",
              "      <td>10.000000</td>\n",
              "      <td>10.000000</td>\n",
              "      <td>10.000000</td>\n",
              "    </tr>\n",
              "    <tr>\n",
              "      <th>mean</th>\n",
              "      <td>0.933744</td>\n",
              "      <td>0.975388</td>\n",
              "      <td>0.957303</td>\n",
              "      <td>0.970642</td>\n",
              "    </tr>\n",
              "    <tr>\n",
              "      <th>std</th>\n",
              "      <td>0.009817</td>\n",
              "      <td>0.002878</td>\n",
              "      <td>0.005027</td>\n",
              "      <td>0.002220</td>\n",
              "    </tr>\n",
              "    <tr>\n",
              "      <th>min</th>\n",
              "      <td>0.922650</td>\n",
              "      <td>0.971867</td>\n",
              "      <td>0.950815</td>\n",
              "      <td>0.966573</td>\n",
              "    </tr>\n",
              "    <tr>\n",
              "      <th>25%</th>\n",
              "      <td>0.925337</td>\n",
              "      <td>0.973598</td>\n",
              "      <td>0.954762</td>\n",
              "      <td>0.970066</td>\n",
              "    </tr>\n",
              "    <tr>\n",
              "      <th>50%</th>\n",
              "      <td>0.931454</td>\n",
              "      <td>0.975376</td>\n",
              "      <td>0.956955</td>\n",
              "      <td>0.970144</td>\n",
              "    </tr>\n",
              "    <tr>\n",
              "      <th>75%</th>\n",
              "      <td>0.942904</td>\n",
              "      <td>0.976700</td>\n",
              "      <td>0.957832</td>\n",
              "      <td>0.971867</td>\n",
              "    </tr>\n",
              "    <tr>\n",
              "      <th>max</th>\n",
              "      <td>0.947306</td>\n",
              "      <td>0.980670</td>\n",
              "      <td>0.970081</td>\n",
              "      <td>0.973684</td>\n",
              "    </tr>\n",
              "  </tbody>\n",
              "</table>\n",
              "</div>"
            ],
            "text/plain": [
              "       Decision tree        SVM  Random forest  Neural Network\n",
              "count      10.000000  10.000000      10.000000       10.000000\n",
              "mean        0.933744   0.975388       0.957303        0.970642\n",
              "std         0.009817   0.002878       0.005027        0.002220\n",
              "min         0.922650   0.971867       0.950815        0.966573\n",
              "25%         0.925337   0.973598       0.954762        0.970066\n",
              "50%         0.931454   0.975376       0.956955        0.970144\n",
              "75%         0.942904   0.976700       0.957832        0.971867\n",
              "max         0.947306   0.980670       0.970081        0.973684"
            ]
          },
          "metadata": {
            "tags": []
          },
          "execution_count": 32
        }
      ]
    },
    {
      "cell_type": "code",
      "metadata": {
        "colab": {
          "base_uri": "https://localhost:8080/"
        },
        "id": "MJkV2zNwiawn",
        "outputId": "4802d074-87bb-407c-bbfd-9a6edc56e257"
      },
      "source": [
        "results.std() / results.mean() * 100 # coefficient of variation"
      ],
      "execution_count": 33,
      "outputs": [
        {
          "output_type": "execute_result",
          "data": {
            "text/plain": [
              "Decision tree     1.051333\n",
              "SVM               0.295040\n",
              "Random forest     0.525070\n",
              "Neural Network    0.228744\n",
              "dtype: float64"
            ]
          },
          "metadata": {
            "tags": []
          },
          "execution_count": 33
        }
      ]
    }
  ]
}